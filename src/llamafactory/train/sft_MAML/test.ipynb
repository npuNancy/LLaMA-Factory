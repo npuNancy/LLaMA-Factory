{
 "cells": [
  {
   "cell_type": "code",
   "execution_count": 1,
   "metadata": {},
   "outputs": [],
   "source": [
    "import copy\n",
    "import torch\n",
    "import torch.nn as nn\n",
    "import torch.optim as optim\n"
   ]
  },
  {
   "cell_type": "code",
   "execution_count": 2,
   "metadata": {},
   "outputs": [],
   "source": [
    "\n",
    "# 1. 生成随机数据（100个样本）\n",
    "spt_inputs = torch.randn(100, 1) * 10  # 输入特征（-10到10的随机数）\n",
    "spt_labels = 3 * spt_inputs + 2 + torch.randn(100, 1) * 2  # 带噪声的线性关系（真实参数w=3，b=2）\n",
    "\n",
    "qry_inputs = torch.randn(100, 1) * 10  # 输入特征（-10到10的随机数）\n",
    "qry_labels = 3 * qry_inputs + 2 + torch.randn(100, 1) * 2  # 带噪声的线性关系（真实参数w=3，b=2）\n",
    "\n",
    "\n"
   ]
  },
  {
   "cell_type": "code",
   "execution_count": 3,
   "metadata": {},
   "outputs": [
    {
     "name": "stdout",
     "output_type": "stream",
     "text": [
      "914.1947021484375\n"
     ]
    }
   ],
   "source": [
    "# 2. 定义单层线性模型\n",
    "model_1 = nn.Sequential(nn.Linear(1, 1))  # 输入维度1，输出维度1\n",
    "\n",
    "# 3. 定义损失函数和优化器\n",
    "optimizer_1 = optim.SGD(model_1.parameters(), lr=0.01)  # 随机梯度下降\n",
    "\n",
    "\n",
    "criterion = nn.MSELoss()  # 均方误差损失\n",
    "optimizer_1.zero_grad()  # 梯度清零\n",
    "outputs = model_1(spt_inputs)  # 正向传播\n",
    "support_loss = criterion(outputs, spt_labels)  # 计算损失\n",
    "support_loss.backward()  # 反向传播，计算梯度\n",
    "optimizer_1.step()  # 更新参数\n",
    "\n",
    "outputs = model_1(qry_inputs)  # 正向传播\n",
    "query_loss = criterion(outputs, qry_labels)\n",
    "print(query_loss.item())"
   ]
  },
  {
   "cell_type": "code",
   "execution_count": 5,
   "metadata": {},
   "outputs": [
    {
     "name": "stdout",
     "output_type": "stream",
     "text": [
      "support_loss=tensor(715.0440, grad_fn=<MseLossBackward0>)\n",
      "loss=tensor(715.0440, grad_fn=<MeanBackward0>)\n",
      "1045.1934814453125\n"
     ]
    }
   ],
   "source": [
    "# 2. 定义单层线性模型\n",
    "model_2 = nn.Sequential(nn.Linear(1, 1))  # 输入维度1，输出维度1\n",
    "\n",
    "# 3. 定义损失函数和优化器\n",
    "optimizer_2 = optim.SGD(model_2.parameters(), lr=0.01)  # 随机梯度下降\n",
    "\n",
    "criterion = nn.MSELoss()  # 均方误差损失\n",
    "optimizer_2.zero_grad()  # 梯度清零\n",
    "outputs = model_2(spt_inputs)  # 正向传播\n",
    "support_loss = criterion(outputs, spt_labels)  # 计算损失\n",
    "loss = torch.stack([support_loss for i in range(10)]).mean() # 假设累积了10个样本的损失\n",
    "print(f\"{support_loss=}\")\n",
    "print(f\"{loss=}\")\n",
    "loss.backward()  # 反向传播，计算梯度\n",
    "optimizer_2.step()  # 更新参数\n",
    "\n",
    "outputs = model_2(qry_inputs)  # 正向传播\n",
    "query_loss = criterion(outputs, qry_labels)\n",
    "print(query_loss.item())"
   ]
  },
  {
   "cell_type": "code",
   "execution_count": null,
   "metadata": {},
   "outputs": [],
   "source": []
  }
 ],
 "metadata": {
  "kernelspec": {
   "display_name": "llama_factory",
   "language": "python",
   "name": "python3"
  },
  "language_info": {
   "codemirror_mode": {
    "name": "ipython",
    "version": 3
   },
   "file_extension": ".py",
   "mimetype": "text/x-python",
   "name": "python",
   "nbconvert_exporter": "python",
   "pygments_lexer": "ipython3",
   "version": "3.11.0"
  }
 },
 "nbformat": 4,
 "nbformat_minor": 2
}
